{
 "cells": [
  {
   "cell_type": "code",
   "execution_count": null,
   "metadata": {},
   "outputs": [],
   "source": [
    "import radar_attenuation.gaia_util as gu\n",
    "\n",
    "import numpy as np\n",
    "import pandas as pd\n",
    "\n",
    "import matplotlib.pyplot as plt\n",
    "import seaborn as sns"
   ]
  },
  {
   "cell_type": "code",
   "execution_count": null,
   "metadata": {},
   "outputs": [],
   "source": [
    "T0 = 110 # K\n",
    "Tb = 272.976\n",
    "scaleD = 21. # km\n",
    "scaleC =  0 # kg/m3\n",
    "scaleT = (Tb-T0)\n",
    "R0 = 252100.0"
   ]
  },
  {
   "cell_type": "code",
   "execution_count": null,
   "metadata": {},
   "outputs": [],
   "source": [
    "caseID = 'ann2_66_RR0.9167_P0.08'\n",
    "path_to_caseID = '../data/gaia/temp_profile/gaia_grainsize_simulations/grain_1e-3/'\n",
    "\n",
    "return_list = gu.load_sim(caseID, path_to_caseID, -1)\n",
    "s_1e3 = return_list[0]\n",
    "o_1e3 = return_list[1]\n",
    "nShells = o_1e3.grid.nShells\n",
    "nCellsPerShell = o_1e3.grid.nCellsPerShell[0]\n",
    "gaia_temp_table_1e3 = gu.transform_T_to_table(s_1e3, o_1e3, caseID, T0, scaleT, scaleD, scaleC)\n",
    "df_1e3, attenuation_1e3 = gu.calc_gaia_attenuation(gaia_temp_table_1e3, R0, nShells, nCellsPerShell, \"low_loss\", '1e-3')\n",
    "\n",
    "# fig, ax = plt.subplots(1, 1, figsize = (2, 7), dpi = 500)\n",
    "# cb = gu.mk_gaia_T_plot(o_1e3, scaleT, T0, Tb, fig, ax, 8, cbar_ax = [0, 0.085, 0.9, 0.015], lowerlim = T0)"
   ]
  },
  {
   "cell_type": "code",
   "execution_count": null,
   "metadata": {},
   "outputs": [],
   "source": [
    "caseID = 'ann2_129_RR0.9167_P0.08'\n",
    "path_to_caseID = '../data/gaia/temp_profile/gaia_grainsize_simulations/grain_1e-4/'\n",
    "\n",
    "\n",
    "return_list = gu.load_sim(caseID, path_to_caseID, -1)\n",
    "s_1e4 = return_list[0]\n",
    "o_1e4 = return_list[1]\n",
    "nShells = o_1e4.grid.nShells\n",
    "nCellsPerShell = o_1e4.grid.nCellsPerShell[0]\n",
    "gaia_temp_table_1e4 = gu.transform_T_to_table(s_1e4, o_1e4, caseID, T0, scaleT, scaleD, scaleC)\n",
    "df_1e4, attenuation_1e4 = gu.calc_gaia_attenuation(gaia_temp_table_1e4, R0, nShells, nCellsPerShell, \"low_loss\", '1e-4')\n",
    "\n",
    "# fig, ax = plt.subplots(1, 1, figsize = (2, 7), dpi = 500)\n",
    "# cb = gu.mk_gaia_T_plot(o_1e4, scaleT, T0, Tb, fig, ax, 8, cbar_ax = [0, 0.085, 0.9, 0.015], lowerlim = T0)"
   ]
  },
  {
   "cell_type": "code",
   "execution_count": null,
   "metadata": {},
   "outputs": [],
   "source": [
    "caseID = 'ann2_192_RR0.9167_P0.08'\n",
    "path_to_caseID = '../data/gaia/temp_profile/gaia_grainsize_simulations/grain_1e-5/'\n",
    "\n",
    "return_list = gu.load_sim(caseID, path_to_caseID, -1)\n",
    "s_1e5 = return_list[0]\n",
    "o_1e5 = return_list[1]\n",
    "nShells = o_1e5.grid.nShells\n",
    "nCellsPerShell = o_1e5.grid.nCellsPerShell[0]\n",
    "gaia_temp_table_1e5 = gu.transform_T_to_table(s_1e5, o_1e5, caseID, T0, scaleT, scaleD, scaleC)\n",
    "df_1e5, attenuation_1e5 = gu.calc_gaia_attenuation(gaia_temp_table_1e5, R0, nShells, nCellsPerShell, \"low_loss\", '1e-5')\n",
    "# fig, ax = plt.subplots(1, 1, figsize = (2, 7), dpi = 500)\n",
    "# cb = gu.mk_gaia_T_plot(o_1e5, scaleT, T0, Tb, fig, ax, 8, cbar_ax = [0, 0.085, 0.9, 0.015], lowerlim = T0)"
   ]
  },
  {
   "cell_type": "code",
   "execution_count": null,
   "metadata": {},
   "outputs": [],
   "source": [
    "depthwise_df = gu.calc_angular_ratio_data([df_1e5], 'Grain Size', a_r = 15)\n",
    "plot = gu.mk_angular_ratio_plot(depthwise_df, 'Depth to Eutectic', 'Grain Size', plot_eutectic=True)\n",
    "plt.show()\n",
    "line_segment_list = gu.mk_sparse_angular_plot(depthwise_df,\"Sparse Eutectic Interface\", False)\n",
    "plt.show()"
   ]
  }
 ],
 "metadata": {
  "language_info": {
   "name": "python"
  }
 },
 "nbformat": 4,
 "nbformat_minor": 2
}
