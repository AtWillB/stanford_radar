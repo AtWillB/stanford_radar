{
 "cells": [
  {
   "cell_type": "code",
   "execution_count": 1,
   "metadata": {},
   "outputs": [],
   "source": [
    "from temp_profile import TempProfile2D\n",
    "from eutectic_interface import EuteticInterface\n",
    "\n",
    "import glob\n",
    "import numpy as np\n",
    "import pandas as pd\n",
    "from scipy.signal import find_peaks, peak_prominences\n",
    "\n",
    "import matplotlib.pyplot as plt\n",
    "import seaborn as sns\n"
   ]
  },
  {
   "cell_type": "code",
   "execution_count": 2,
   "metadata": {},
   "outputs": [],
   "source": [
    "twod_paths = glob.glob('../data/gaia/temp_profile/europa/EuropaParameterStudy/*_2D_data.txt')"
   ]
  },
  {
   "cell_type": "code",
   "execution_count": 3,
   "metadata": {},
   "outputs": [],
   "source": [
    "# df structure: filename, d_ice, viscosity, minimum eutetic depth, maximum eutetic depth, mean upwelling heigh, estimated convection cells, Convective Heigh Imbalance Ratio\n",
    "# probably worth it to add distance at some point when I do that calculation\n",
    "\n",
    "folderpath = \"../data/gaia/temp_profile/europa/EuropaparameterStudy/cell_counting/\"\n",
    "df_dict = {\n",
    "    \"filename\": [],\n",
    "    \"d_ice\": [],\n",
    "    \"viscosity\": [],\n",
    "    \"maximum_depth\": [],\n",
    "    \"avg_upwelling_depth\": [],\n",
    "    \"num_of_convection_cells\": [],\n",
    "    \"chir\": []\n",
    "}\n",
    "\n",
    "for filepath in twod_paths:\n",
    "    temp_profile = TempProfile2D.from_filepath(filepath)\n",
    "    df_dict[\"filename\"].append(temp_profile.filename)\n",
    "    df_dict[\"d_ice\"].append(temp_profile.d_ice)\n",
    "    df_dict[\"viscosity\"].append(temp_profile.filename.split('_')[2])\n",
    "    df_dict[\"maximum_depth\"].append(temp_profile.eutectic.maximum_depth)\n",
    "    df_dict[\"avg_upwelling_depth\"].append(temp_profile.eutectic.avg_upwelling_depth)\n",
    "    df_dict[\"num_of_convection_cells\"].append(temp_profile.eutectic.num_of_convection_cells)\n",
    "    df_dict[\"chir\"].append(temp_profile.eutectic.chir)\n",
    "\n",
    "master_eutectic_df = pd.DataFrame(df_dict)\n",
    "master_eutectic_df.rename(columns = {\n",
    "        \"filename\": \"Filename\",\n",
    "        \"d_ice\": \"Total Shell Depth [Km]\",\n",
    "        \"viscosity\": 'Viscosity [Pa s]',\n",
    "        \"maximum_depth\": 'Deapest Downwelling [Km]',\n",
    "        \"›\": 'Tallest Upwelling [Km]',\n",
    "        \"avg_upwelling_depth\": 'Mean Upwelling Height [Km]',\n",
    "        \"num_of_convection_cells\": 'Estimated Number of Convection Cells',\n",
    "        \"chir\": 'Convective Height Imbalance Ratio'\n",
    "}, inplace = True)\n",
    "\n",
    "master_eutectic_df\n",
    "master_eutectic_df.to_csv(folderpath+\"master_eutectic_df.csv\")"
   ]
  }
 ],
 "metadata": {
  "kernelspec": {
   "display_name": "dlr_radar",
   "language": "python",
   "name": "python3"
  },
  "language_info": {
   "codemirror_mode": {
    "name": "ipython",
    "version": 3
   },
   "file_extension": ".py",
   "mimetype": "text/x-python",
   "name": "python",
   "nbconvert_exporter": "python",
   "pygments_lexer": "ipython3",
   "version": "3.10.13"
  }
 },
 "nbformat": 4,
 "nbformat_minor": 2
}
