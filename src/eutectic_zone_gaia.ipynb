{
 "cells": [
  {
   "cell_type": "code",
   "execution_count": null,
   "metadata": {},
   "outputs": [],
   "source": [
    "import radar_attenuation.temp_profile_util as tpu\n",
    "import radar_attenuation.gaia_util as gu\n",
    "\n",
    "import numpy as np\n",
    "import pandas as pd\n",
    "\n",
    "import matplotlib.pyplot as plt\n",
    "import seaborn as sns"
   ]
  },
  {
   "cell_type": "code",
   "execution_count": null,
   "metadata": {},
   "outputs": [],
   "source": [
    "T0 = 110 # K\n",
    "Tb = 272.976\n",
    "# scaleD = 21. # km\n",
    "# scaleC =  0 # kg/m3\n",
    "scaleT = (Tb-T0)\n",
    "R0 = 252100.0"
   ]
  },
  {
   "cell_type": "code",
   "execution_count": null,
   "metadata": {},
   "outputs": [],
   "source": [
    "fig, ax = plt.subplots(1, 1, figsize = (2, 7), dpi = 500)\n",
    "cb = gu.mk_gaia_T_plot(o_1e4, scaleT, T0, Tb, fig, ax, 8, cbar_ax = [0, 0.085, 0.9, 0.015], lowerlim = T0)\n",
    "plt.show()"
   ]
  }
 ],
 "metadata": {
  "language_info": {
   "name": "python"
  }
 },
 "nbformat": 4,
 "nbformat_minor": 2
}
