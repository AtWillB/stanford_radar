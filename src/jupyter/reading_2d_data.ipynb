{
 "cells": [
  {
   "cell_type": "code",
   "execution_count": 1,
   "metadata": {},
   "outputs": [],
   "source": [
    "import radar_attenuation.gaia_util as gu\n",
    "import radar_attenuation.gaia_eutectic_util as geu\n",
    "\n",
    "import numpy as np\n",
    "import pandas as pd\n",
    "\n",
    "import matplotlib.pyplot as plt\n",
    "import seaborn as sns"
   ]
  },
  {
   "cell_type": "code",
   "execution_count": 2,
   "metadata": {},
   "outputs": [],
   "source": [
    "gaia_temp_table = np.loadtxt(\"../data/gaia/temp_profile/europa/test_one/thermochemical_40km_Drho46_2D_data.txt\", comments= \"#\")"
   ]
  },
  {
   "cell_type": "code",
   "execution_count": 3,
   "metadata": {},
   "outputs": [
    {
     "data": {
      "text/plain": [
       "array([[ 1.52079981e+03, -1.23455647e-01,  0.00000000e+00,\n",
       "         2.69224000e+02,  7.50000000e-01],\n",
       "       [ 1.52079981e+03,  1.23455647e-01,  0.00000000e+00,\n",
       "         2.69224000e+02,  7.50000000e-01],\n",
       "       [ 1.52079977e+03,  3.70366937e-01,  0.00000000e+00,\n",
       "         2.69224000e+02,  7.50000000e-01],\n",
       "       ...,\n",
       "       [ 1.54854022e+03,  1.95242994e+02,  0.00000000e+00,\n",
       "         1.10000000e+02,  7.50000000e+00],\n",
       "       [ 1.54850850e+03,  1.95494407e+02,  0.00000000e+00,\n",
       "         1.10000000e+02,  7.50000000e+00],\n",
       "       [ 1.54847674e+03,  1.95745814e+02,  0.00000000e+00,\n",
       "         1.10000000e+02,  7.50000000e+00]])"
      ]
     },
     "execution_count": 3,
     "metadata": {},
     "output_type": "execute_result"
    }
   ],
   "source": [
    "gaia_temp_table"
   ]
  },
  {
   "cell_type": "code",
   "execution_count": 4,
   "metadata": {},
   "outputs": [
    {
     "data": {
      "text/plain": [
       "(125712, 5)"
      ]
     },
     "execution_count": 4,
     "metadata": {},
     "output_type": "execute_result"
    }
   ],
   "source": [
    "gaia_temp_table.shape"
   ]
  },
  {
   "cell_type": "code",
   "execution_count": 5,
   "metadata": {},
   "outputs": [
    {
     "data": {
      "text/plain": [
       "array([    0.   ,     0.   ,     0.   , ..., 40000.182, 40000.182,\n",
       "       40000.182])"
      ]
     },
     "execution_count": 5,
     "metadata": {},
     "output_type": "execute_result"
    }
   ],
   "source": [
    "x = gaia_temp_table[:, 0]\n",
    "y = gaia_temp_table[:, 1]\n",
    "z = gaia_temp_table[:, 2]\n",
    "\n",
    "radius_array = np.round(np.sqrt(x**2 + y**2 + z**2)*1000, 3)\n",
    "RO = np.min(radius_array)\n",
    "\n",
    "radius_array = radius_array - RO\n",
    "radius_array"
   ]
  },
  {
   "cell_type": "code",
   "execution_count": 6,
   "metadata": {},
   "outputs": [
    {
     "data": {
      "text/plain": [
       "162"
      ]
     },
     "execution_count": 6,
     "metadata": {},
     "output_type": "execute_result"
    }
   ],
   "source": [
    "np.unique(radius_array).shape[0]"
   ]
  },
  {
   "cell_type": "code",
   "execution_count": 7,
   "metadata": {},
   "outputs": [
    {
     "name": "stdout",
     "output_type": "stream",
     "text": [
      "776\n",
      "776\n"
     ]
    },
    {
     "data": {
      "text/plain": [
       "(array([    0.   ,   125.   ,   375.001,   625.002,   875.004,  1125.005,\n",
       "         1375.006,  1625.007,  1875.008,  2125.009,  2375.01 ,  2625.012,\n",
       "         2875.013,  3125.014,  3375.015,  3625.016,  3875.017,  4125.018,\n",
       "         4375.02 ,  4625.021,  4875.022,  5125.023,  5375.024,  5625.025,\n",
       "         5875.026,  6125.028,  6375.029,  6625.03 ,  6875.031,  7125.032,\n",
       "         7375.033,  7625.034,  7875.036,  8125.037,  8375.038,  8625.039,\n",
       "         8875.04 ,  9125.041,  9375.042,  9625.043,  9875.045, 10125.046,\n",
       "        10375.047, 10625.048, 10875.049, 11125.05 , 11375.051, 11625.053,\n",
       "        11875.054, 12125.055, 12375.056, 12625.057, 12875.058, 13125.059,\n",
       "        13375.061, 13625.062, 13875.063, 14125.064, 14375.065, 14625.066,\n",
       "        14875.067, 15125.069, 15375.07 , 15625.071, 15875.072, 16125.073,\n",
       "        16375.074, 16625.075, 16875.077, 17125.078, 17375.079, 17625.08 ,\n",
       "        17875.081, 18125.082, 18375.083, 18625.085, 18875.086, 19125.087,\n",
       "        19375.088, 19625.089, 19875.09 , 20125.091, 20375.093, 20625.094,\n",
       "        20875.095, 21125.096, 21375.097, 21625.098, 21875.099, 22125.1  ,\n",
       "        22375.102, 22625.103, 22875.104, 23125.105, 23375.106, 23625.107,\n",
       "        23875.108, 24125.11 , 24375.111, 24625.112, 24875.113, 25125.114,\n",
       "        25375.115, 25625.116, 25875.118, 26125.119, 26375.12 , 26625.121,\n",
       "        26875.122, 27125.123, 27375.124, 27625.126, 27875.127, 28125.128,\n",
       "        28375.129, 28625.13 , 28875.131, 29125.132, 29375.134, 29625.135,\n",
       "        29875.136, 30125.137, 30375.138, 30625.139, 30875.14 , 31125.142,\n",
       "        31375.143, 31625.144, 31875.145, 32125.146, 32375.147, 32625.148,\n",
       "        32875.15 , 33125.151, 33375.152, 33625.153, 33875.154, 34125.155,\n",
       "        34375.156, 34625.157, 34875.159, 35125.16 , 35375.161, 35625.162,\n",
       "        35875.163, 36125.164, 36375.165, 36625.167, 36875.168, 37125.169,\n",
       "        37375.17 , 37625.171, 37875.172, 38125.173, 38375.175, 38625.176,\n",
       "        38875.177, 39125.178, 39375.179, 39625.18 , 39875.181, 40000.182]),\n",
       " array([776, 776, 776, 776, 776, 776, 776, 776, 776, 776, 776, 776, 776,\n",
       "        776, 776, 776, 776, 776, 776, 776, 776, 776, 776, 776, 776, 776,\n",
       "        776, 776, 776, 776, 776, 776, 776, 776, 776, 776, 776, 776, 776,\n",
       "        776, 776, 776, 776, 776, 776, 776, 776, 776, 776, 776, 776, 776,\n",
       "        776, 776, 776, 776, 776, 776, 776, 776, 776, 776, 776, 776, 776,\n",
       "        776, 776, 776, 776, 776, 776, 776, 776, 776, 776, 776, 776, 776,\n",
       "        776, 776, 776, 776, 776, 776, 776, 776, 776, 776, 776, 776, 776,\n",
       "        776, 776, 776, 776, 776, 776, 776, 776, 776, 776, 776, 776, 776,\n",
       "        776, 776, 776, 776, 776, 776, 776, 776, 776, 776, 776, 776, 776,\n",
       "        776, 776, 776, 776, 776, 776, 776, 776, 776, 776, 776, 776, 776,\n",
       "        776, 776, 776, 776, 776, 776, 776, 776, 776, 776, 776, 776, 776,\n",
       "        776, 776, 776, 776, 776, 776, 776, 776, 776, 776, 776, 776, 776,\n",
       "        776, 776, 776, 776, 776, 776]))"
      ]
     },
     "execution_count": 7,
     "metadata": {},
     "output_type": "execute_result"
    }
   ],
   "source": [
    "# I would expect the counts to be equal, that is there are an equal number of cells for every shell, \n",
    "# where each shell is denoted by a unique radius value, but that does not seem to be the case. \n",
    "# there are anywhere from 1 to 611 instances where np.sqrt(x**2 + y**2 + z**2) = a unique radius value\n",
    "# 611 is not the number of cells per shell\n",
    "unique_array = np.unique(radius_array, return_counts=True)\n",
    "\n",
    "print(np.max(unique_array[1]))\n",
    "print(np.min(unique_array[1]))\n",
    "\n",
    "unique_array"
   ]
  },
  {
   "cell_type": "code",
   "execution_count": 8,
   "metadata": {},
   "outputs": [
    {
     "data": {
      "text/plain": [
       "array([776, 776, 776, 776, 776, 776, 776, 776, 776, 776, 776, 776, 776,\n",
       "       776, 776, 776])"
      ]
     },
     "execution_count": 8,
     "metadata": {},
     "output_type": "execute_result"
    }
   ],
   "source": [
    "unique_array[1][:16]"
   ]
  },
  {
   "cell_type": "code",
   "execution_count": 9,
   "metadata": {},
   "outputs": [
    {
     "name": "stdout",
     "output_type": "stream",
     "text": [
      "3880\n",
      "2328\n",
      "3104\n",
      "3104\n"
     ]
    }
   ],
   "source": [
    "print(np.sum(unique_array[1][:5])) # 5\n",
    "print(np.sum(unique_array[1][5:8])) # 4\n",
    "print(np.sum(unique_array[1][8:12])) # 4\n",
    "print(np.sum(unique_array[1][12:16])) # 4"
   ]
  },
  {
   "cell_type": "code",
   "execution_count": 17,
   "metadata": {},
   "outputs": [
    {
     "name": "stdout",
     "output_type": "stream",
     "text": [
      "Case: BasalG1_Ann Loaded Grid: BasalG1_Ann.grid\n",
      "Got 0 new files, 1 in total.\n",
      "Loaded time 0.26848397042127975 and iteration 79027\n",
      "cells per depth 776.0\n",
      "776\n"
     ]
    }
   ],
   "source": [
    "caseID = 'BasalG1_Ann'\n",
    "path_to_caseID = \"../data/gaia/temp_profile/europa/test_one/\"\n",
    "\n",
    "return_list = gu.load_sim(caseID, path_to_caseID, -1)\n",
    "s_1e3 = return_list[0]\n",
    "o_1e3 = return_list[1]\n",
    "nShells = o_1e3.grid.nShells\n",
    "nCellsPerShell = o_1e3.grid.nCellsPerShell[0]\n",
    "print(nCellsPerShell)\n",
    "\n",
    "\n"
   ]
  },
  {
   "cell_type": "code",
   "execution_count": null,
   "metadata": {},
   "outputs": [
    {
     "data": {
      "text/plain": [
       "(125712, 1)"
      ]
     },
     "execution_count": 11,
     "metadata": {},
     "output_type": "execute_result"
    }
   ],
   "source": [
    "o_1e3.T.data.shape"
   ]
  }
 ],
 "metadata": {
  "kernelspec": {
   "display_name": "dlr_radar",
   "language": "python",
   "name": "python3"
  },
  "language_info": {
   "codemirror_mode": {
    "name": "ipython",
    "version": 3
   },
   "file_extension": ".py",
   "mimetype": "text/x-python",
   "name": "python",
   "nbconvert_exporter": "python",
   "pygments_lexer": "ipython3",
   "version": "3.10.13"
  }
 },
 "nbformat": 4,
 "nbformat_minor": 2
}
