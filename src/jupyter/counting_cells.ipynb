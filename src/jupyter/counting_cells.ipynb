{
 "cells": [
  {
   "cell_type": "code",
   "execution_count": 1,
   "metadata": {},
   "outputs": [],
   "source": [
    "from temp_profile import TempProfile2D\n",
    "from eutectic_interface import EuteticInterface\n",
    "\n",
    "import glob\n",
    "import numpy as np\n",
    "import pandas as pd\n",
    "from scipy.signal import find_peaks, peak_prominences\n",
    "\n",
    "import matplotlib.pyplot as plt\n",
    "import seaborn as sns\n"
   ]
  },
  {
   "cell_type": "code",
   "execution_count": 2,
   "metadata": {},
   "outputs": [],
   "source": [
    "twod_paths = glob.glob('../data/gaia/temp_profile/europa/EuropaParameterStudy/*_2D_data.txt')"
   ]
  },
  {
   "cell_type": "code",
   "execution_count": 3,
   "metadata": {},
   "outputs": [
    {
     "ename": "TypeError",
     "evalue": "NDFrame.to_csv() got an unexpected keyword argument 'index_col'",
     "output_type": "error",
     "traceback": [
      "\u001b[0;31m---------------------------------------------------------------------------\u001b[0m",
      "\u001b[0;31mTypeError\u001b[0m                                 Traceback (most recent call last)",
      "Cell \u001b[0;32mIn[3], line 43\u001b[0m\n\u001b[1;32m     30\u001b[0m master_eutectic_df\u001b[38;5;241m.\u001b[39mrename(columns \u001b[38;5;241m=\u001b[39m {\n\u001b[1;32m     31\u001b[0m         \u001b[38;5;124m\"\u001b[39m\u001b[38;5;124mfilename\u001b[39m\u001b[38;5;124m\"\u001b[39m: \u001b[38;5;124m\"\u001b[39m\u001b[38;5;124mFilename\u001b[39m\u001b[38;5;124m\"\u001b[39m,\n\u001b[1;32m     32\u001b[0m         \u001b[38;5;124m\"\u001b[39m\u001b[38;5;124md_ice\u001b[39m\u001b[38;5;124m\"\u001b[39m: \u001b[38;5;124m\"\u001b[39m\u001b[38;5;124mTotal Shell Depth [Km]\u001b[39m\u001b[38;5;124m\"\u001b[39m,\n\u001b[0;32m   (...)\u001b[0m\n\u001b[1;32m     39\u001b[0m         \u001b[38;5;124m\"\u001b[39m\u001b[38;5;124mconvective_state\u001b[39m\u001b[38;5;124m\"\u001b[39m: \u001b[38;5;124m'\u001b[39m\u001b[38;5;124mEstimated Convective State\u001b[39m\u001b[38;5;124m'\u001b[39m\n\u001b[1;32m     40\u001b[0m }, inplace \u001b[38;5;241m=\u001b[39m \u001b[38;5;28;01mTrue\u001b[39;00m)\n\u001b[1;32m     42\u001b[0m master_eutectic_df\n\u001b[0;32m---> 43\u001b[0m \u001b[43mmaster_eutectic_df\u001b[49m\u001b[38;5;241;43m.\u001b[39;49m\u001b[43mto_csv\u001b[49m\u001b[43m(\u001b[49m\u001b[43mfolderpath\u001b[49m\u001b[38;5;241;43m+\u001b[39;49m\u001b[38;5;124;43m\"\u001b[39;49m\u001b[38;5;124;43mmaster_eutectic_df.csv\u001b[39;49m\u001b[38;5;124;43m\"\u001b[39;49m\u001b[43m,\u001b[49m\u001b[43m \u001b[49m\u001b[43mindex_col\u001b[49m\u001b[43m \u001b[49m\u001b[38;5;241;43m=\u001b[39;49m\u001b[43m \u001b[49m\u001b[38;5;28;43;01mFalse\u001b[39;49;00m\u001b[43m)\u001b[49m\n",
      "\u001b[0;31mTypeError\u001b[0m: NDFrame.to_csv() got an unexpected keyword argument 'index_col'"
     ]
    }
   ],
   "source": [
    "# df structure: filename, d_ice, viscosity, minimum eutetic depth, maximum eutetic depth, mean upwelling heigh, estimated convection cells, Convective Heigh Imbalance Ratio\n",
    "# probably worth it to add distance at some point when I do that calculation\n",
    "\n",
    "folderpath = \"../data/gaia/temp_profile/europa/EuropaparameterStudy/cell_counting/\"\n",
    "df_dict = {\n",
    "    \"filename\": [],\n",
    "    \"d_ice\": [],\n",
    "    \"viscosity\": [],\n",
    "    \"maximum_depth\": [],\n",
    "    \"avg_upwelling_depth\": [],\n",
    "    \"chir\": [],\n",
    "    \"num_of_convection_cells\": [],\n",
    "    'cells_per_km': [],\n",
    "    'convective_state': []\n",
    "}\n",
    "\n",
    "for filepath in twod_paths:\n",
    "    temp_profile = TempProfile2D.from_filepath(filepath)\n",
    "    df_dict[\"filename\"].append(temp_profile.filename)\n",
    "    df_dict[\"d_ice\"].append(temp_profile.d_ice)\n",
    "    df_dict[\"viscosity\"].append(temp_profile.filename.split('_')[2])\n",
    "    df_dict[\"maximum_depth\"].append(temp_profile.eutectic.maximum_depth)\n",
    "    df_dict[\"avg_upwelling_depth\"].append(temp_profile.eutectic.avg_upwelling_depth)\n",
    "    df_dict[\"chir\"].append(temp_profile.eutectic.chir)\n",
    "    df_dict[\"num_of_convection_cells\"].append(temp_profile.eutectic.num_of_convection_cells)\n",
    "    df_dict['cells_per_km'].append(temp_profile.eutectic.num_of_convection_cells/np.max(temp_profile.eutectic.groundtrack_span))\n",
    "    df_dict['convective_state'].append(temp_profile.eutectic.predict_eutetic(temp_profile.eutectic.relative_depth)['prediction'])\n",
    "\n",
    "master_eutectic_df = pd.DataFrame(df_dict)\n",
    "master_eutectic_df.rename(columns = {\n",
    "        \"filename\": \"Filename\",\n",
    "        \"d_ice\": \"Total Shell Depth [Km]\",\n",
    "        \"viscosity\": 'Viscosity [Pa s]',\n",
    "        \"maximum_depth\": 'Deapest Downwelling [Km]',\n",
    "        \"avg_upwelling_depth\": 'Mean Upwelling Height [Km]',\n",
    "        \"num_of_convection_cells\": 'Estimated Number of Convection Cells',\n",
    "        \"chir\": 'Convective Height Imbalance Ratio',\n",
    "        \"cells_per_km\": 'Cells Per Kilometer',\n",
    "        \"convective_state\": 'Estimated Convective State'\n",
    "}, inplace = True)\n",
    "\n",
    "master_eutectic_df\n",
    "master_eutectic_df.to_csv(folderpath+\"master_eutectic_df.csv\", index = False)"
   ]
  }
 ],
 "metadata": {
  "kernelspec": {
   "display_name": "dlr_radar",
   "language": "python",
   "name": "python3"
  },
  "language_info": {
   "codemirror_mode": {
    "name": "ipython",
    "version": 3
   },
   "file_extension": ".py",
   "mimetype": "text/x-python",
   "name": "python",
   "nbconvert_exporter": "python",
   "pygments_lexer": "ipython3",
   "version": "3.10.13"
  }
 },
 "nbformat": 4,
 "nbformat_minor": 2
}
