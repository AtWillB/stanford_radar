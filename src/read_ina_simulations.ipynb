{
 "cells": [
  {
   "cell_type": "code",
   "execution_count": 1,
   "metadata": {},
   "outputs": [],
   "source": [
    "import radar_attenuation.gaia_util as gu\n",
    "import radar_attenuation.gaia_eutectic_util as geu\n",
    "\n",
    "import numpy as np\n",
    "import pandas as pd\n",
    "\n",
    "import matplotlib.pyplot as plt\n",
    "import seaborn as sns\n",
    "import glob"
   ]
  },
  {
   "cell_type": "code",
   "execution_count": 2,
   "metadata": {},
   "outputs": [
    {
     "name": "stdout",
     "output_type": "stream",
     "text": [
      "../data/gaia/temp_profile/europa/EuropaParameterStudy/Europa_D25km_eta1e+12_2D_data.txt\n"
     ]
    },
    {
     "data": {
      "text/plain": [
       "16"
      ]
     },
     "execution_count": 2,
     "metadata": {},
     "output_type": "execute_result"
    }
   ],
   "source": [
    "twod_temp_profile = sorted(glob.glob(\"../data/gaia/temp_profile/europa/EuropaParameterStudy/*_2D_data.txt\"))\n",
    "km25_1e12_path = twod_temp_profile[0]\n",
    "\n",
    "print(km25_1e12_path)\n",
    "len(twod_temp_profile)"
   ]
  },
  {
   "cell_type": "code",
   "execution_count": 3,
   "metadata": {},
   "outputs": [],
   "source": [
    "km25_1e12_path_temp_profile = np.loadtxt(km25_1e12_path, comments = '#')"
   ]
  },
  {
   "cell_type": "code",
   "execution_count": 5,
   "metadata": {},
   "outputs": [
    {
     "name": "stdout",
     "output_type": "stream",
     "text": [
      "223 14622 3260706 3260706\n"
     ]
    }
   ],
   "source": [
    "df, array_for_plotting = gu.calc_gaia_attenuation(km25_1e12_path_temp_profile, \"m\", 'low_loss', km25_1e12_path.split(\"_daata.txt\")[0])"
   ]
  },
  {
   "cell_type": "code",
   "execution_count": null,
   "metadata": {},
   "outputs": [],
   "source": [
    "gu.mk_gaia_attenuation_plot"
   ]
  }
 ],
 "metadata": {
  "kernelspec": {
   "display_name": "dlr_radar",
   "language": "python",
   "name": "python3"
  },
  "language_info": {
   "codemirror_mode": {
    "name": "ipython",
    "version": 3
   },
   "file_extension": ".py",
   "mimetype": "text/x-python",
   "name": "python",
   "nbconvert_exporter": "python",
   "pygments_lexer": "ipython3",
   "version": "3.10.13"
  }
 },
 "nbformat": 4,
 "nbformat_minor": 2
}
